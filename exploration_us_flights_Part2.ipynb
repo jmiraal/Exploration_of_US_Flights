{
 "cells": [
  {
   "cell_type": "markdown",
   "metadata": {
    "slideshow": {
     "slide_type": "slide"
    }
   },
   "source": [
    "# Analysis of Delays in the US Air Transport\n",
    "## by Jesús Mira Aldao"
   ]
  },
  {
   "cell_type": "markdown",
   "metadata": {
    "slideshow": {
     "slide_type": "slide"
    }
   },
   "source": [
    "## Investigation Overview\n",
    "\n",
    "The main purpose of this investigation is to analyze the different causes of delay in the US air transport. We are interested in knowing how they change depending on the location of the airport (in this case we have chose the departure airport), the day of the week and the month. As an additional resarch we have analysed possible routes in which can be feaseble to promote another mean of transport as the high speed train, hyperloop, etc. To do that we have chose those routes between airportos with a mean of more than 15 flights per day and with a mean speed below 250 km/h because in this conditions a train might be able to compete with the plane in capabilities.\n",
    "\n",
    "## Dataset Overview\n",
    "\n",
    "The original data to develop this research was obtained from the web page [Statistical Computing-Statistical Graphics](http://stat-computing.org/dataexpo/2009/the-data.html). It has up to 120 million observations of flights with variables like:\n",
    "* Dates: day of week, date, month, year\n",
    "* Arrival and departure times: actual and scheduled.\n",
    "* Flight times: actual and scheduled.\n",
    "* Delays of different causes.\n",
    "* Origin and destination: airport code, latitude, longitude.\n",
    "* Carrier.\n",
    "\n"
   ]
  },
  {
   "cell_type": "markdown",
   "metadata": {
    "slideshow": {
     "slide_type": "slide"
    }
   },
   "source": [
    "## Relationship Between Variables of Time in the Dataset\n",
    "\n",
    "![alt text](pictures/Graphic_Times.jpg)"
   ]
  },
  {
   "cell_type": "code",
   "execution_count": 91,
   "metadata": {
    "slideshow": {
     "slide_type": "skip"
    }
   },
   "outputs": [],
   "source": [
    "#basic data libraries\n",
    "import pandas as pd\n",
    "import numpy as np\n",
    "#to interact with the local system\n",
    "import os\n",
    "import sys\n",
    "import psutil\n",
    "\n",
    "#imports to user timers and make conversions of time formats\n",
    "from timeit import default_timer as timer\n",
    "from datetime import datetime\n",
    "import time\n",
    "\n",
    "#import for stats\n",
    "import statsmodels.api as sm\n",
    "import random\n",
    "\n",
    "#import to calculate if a point is inside a polygo.\n",
    "#it is necessary to divide the airports in geographical regions\n",
    "from shapely.geometry import Point\n",
    "from shapely.geometry.polygon import Polygon\n",
    "\n",
    "#imports to plot maps.\n",
    "import plotly.express as px\n",
    "import plotly.graph_objects as go\n",
    "\n",
    "#matplotlib to display plots\n",
    "import matplotlib.pyplot as plt\n",
    "from matplotlib.lines import Line2D \n",
    "import seaborn as sns\n",
    "sns.set_style(\"whitegrid\", {'axes.grid' : False})\n",
    "sns.set_context(\"talk\")\n",
    "\n",
    "plt.style.use('seaborn-deep')\n",
    "%matplotlib inline\n",
    "random.seed(30)\n",
    "\n",
    "# suppress warnings from final output\n",
    "import warnings\n",
    "warnings.simplefilter(\"ignore\")"
   ]
  },
  {
   "cell_type": "code",
   "execution_count": 92,
   "metadata": {
    "slideshow": {
     "slide_type": "skip"
    }
   },
   "outputs": [],
   "source": [
    "# load in the dataset into a pandas dataframe\n",
    "#Load the dataframe with the 500000 samples of 2008\n",
    "folder_name = \"data\"\n",
    "df_2008 = pd.read_csv(folder_name + '/2008_samp.csv.bz2', index_col=None, header=0)\n",
    "#We load the file with mean values by day for Origins.\n",
    "df_origins = pd.read_csv(folder_name + '/OriginByDay.csv.bz2', index_col=None, header=0)\n",
    "#We load the file with mean values by day for Routes\n",
    "df_routes = pd.read_csv(folder_name + '/RouteByDay.csv.bz2', index_col=None, header=0)\n",
    "#We load the data file with the data of airports\n",
    "df_airports_inf = pd.read_csv('data/airports.csv', index_col=None, header=0)"
   ]
  },
  {
   "cell_type": "code",
   "execution_count": 93,
   "metadata": {
    "slideshow": {
     "slide_type": "skip"
    }
   },
   "outputs": [],
   "source": [
    "#convert region into a categorical ordinal variable.\n",
    "ordered_region = pd.api.types.CategoricalDtype(ordered = True, categories = ['Alaska', 'Hawaii', 'West', 'Center', 'East'])\n",
    "df_airports_inf['region'] = df_airports_inf['region'].astype(ordered_region)\n",
    "\n",
    "#It changes the Type of the Date Time columns to String.\n",
    "df_2008['Year'] = df_2008['Year'].astype(str)\n",
    "df_2008['Month'] = df_2008['Month'].astype(str).str.zfill(2)\n",
    "df_2008['DayofMonth'] = df_2008['DayofMonth'].astype(str).str.zfill(2)\n",
    "df_2008['DayOfWeek'] = df_2008['DayOfWeek'].astype(str)\n",
    "#It creates a new column with the date.\n",
    "df_2008['Date'] = df_2008['Year'] + '-' + df_2008['Month'] + '-' + df_2008['DayofMonth']\n",
    "\n",
    "#convert month to a ordered categorical variable\n",
    "ordered_month = pd.api.types.CategoricalDtype(ordered = True, categories = ['01', '02', '03', '04', '05', '06',\n",
    "                                                                            '07', '08', '09', '10', '11', '12'])\n",
    "df_2008['Month'] = df_2008['Month'].astype(ordered_month)\n",
    "\n",
    "\n",
    "#convert dayofweek to a ordered categorical variable\n",
    "ordered_dow = pd.api.types.CategoricalDtype(ordered = True, categories = ['1', '2', '3', '4', '5', '6', '7'])\n",
    "df_2008['DayOfWeek'] = df_2008['DayOfWeek'].astype(ordered_dow)\n",
    "\n",
    "df_2008['TotalDelay'] = df_2008['CarrierDelay'] +\\\n",
    "                        df_2008['WeatherDelay'] +\\\n",
    "                        df_2008['NASDelay'] +\\\n",
    "                        df_2008['SecurityDelay'] +\\\n",
    "                        df_2008['LateAircraftDelay']"
   ]
  },
  {
   "cell_type": "code",
   "execution_count": 94,
   "metadata": {
    "slideshow": {
     "slide_type": "skip"
    }
   },
   "outputs": [],
   "source": [
    "#I add the comun region to the dataframe df_origins\n",
    "df_origins['Region'] = df_origins.Origin.map(df_airports_inf.set_index('iata')['region'].to_dict())\n",
    "ordered_dow = pd.api.types.CategoricalDtype(ordered = True, categories = [1, 2, 3, 4, 5, 6, 7])\n",
    "df_origins['DayOfWeek'] = df_origins['DayOfWeek'].astype(ordered_dow)\n"
   ]
  },
  {
   "cell_type": "code",
   "execution_count": 95,
   "metadata": {
    "scrolled": true,
    "slideshow": {
     "slide_type": "skip"
    }
   },
   "outputs": [],
   "source": [
    "#It calculates the Total Delay\n",
    "df_routes['TotalDelay'] = df_routes['CarrierDelay'] +\\\n",
    "                          df_routes['WeatherDelay'] +\\\n",
    "                          df_routes['NASDelay'] +\\\n",
    "                          df_routes['SecurityDelay'] +\\\n",
    "                          df_routes['LateAircraftDelay']\n",
    "\n",
    "#It divides the route column in two columns: Origin and Dest.\n",
    "df_routes['Origin'], df_routes['Dest'] = df_routes['Route'].str.split('-', 1).str\n",
    "\n",
    "#It merge the dataframe df_routes with columns about the data of the airport of origin\n",
    "df_routes = df_routes.merge(df_airports_inf, how='left',left_on=['Origin'], right_on = ['iata'])\n",
    "df_routes = df_routes.rename(columns = {'city': 'City_Origin', 'airport': 'Airport_Origin',\n",
    "                                        'state': 'State_Origin', 'country': 'Country_Origin',\n",
    "                                        'lat': 'Lat_Origin', 'long': 'Long_Origin'})\n",
    "df_routes = df_routes.drop(columns = ['iata'])\n",
    "\n",
    "#It merge the dataframe df_routes with columns about the data of the airport of destiny\n",
    "df_routes = df_routes.merge(df_airports_inf, how='left',left_on=['Dest'], right_on = ['iata'])\n",
    "df_routes = df_routes.rename(columns = {'city': 'City_Dest', 'airport': 'Airport_Dest', \n",
    "                                        'state': 'State_Dest', 'country': 'Country_Dest', \n",
    "                                        'lat': 'Lat_Dest', 'long': 'Long_Dest'})\n",
    "df_routes = df_routes.drop(columns = ['iata'])\n",
    "\n",
    "#It adds two columns with the difference in Latitud and Longitud. It converts the coordenates to int\n",
    "df_routes['Difference_Long'] = (df_routes['Long_Dest']-df_routes['Long_Origin']).astype(int)\n",
    "df_routes['Difference_Lat'] = (df_routes['Lat_Dest']-df_routes['Lat_Origin']).astype(int)\n",
    "\n",
    "#We group all the dataframe by de difference in longitude\n",
    "df_routes_long = df_routes.groupby(['Difference_Long']).mean()\n",
    "df_routes_long = df_routes_long.reset_index()\n",
    "\n",
    "#We group all the dataframe by de difference in latitiude\n",
    "df_routes_lat = df_routes.groupby(['Difference_Lat']).mean()\n",
    "df_routes_lat = df_routes_lat.reset_index()"
   ]
  },
  {
   "cell_type": "markdown",
   "metadata": {
    "slideshow": {
     "slide_type": "slide"
    }
   },
   "source": [
    "## Distribution of the Air Time of the Flights\n",
    "\n",
    "The distribution of the airtime is highly right skewed with values from a few minutes to up 600 hundred minutes. If we draw them in a graph using a logarithmic scale for the minutes we can see that tend to follows a log-normal distribution. This is somthing tha also happens with the distance, the elapsed time and with some delays."
   ]
  },
  {
   "cell_type": "code",
   "execution_count": 96,
   "metadata": {
    "scrolled": false,
    "slideshow": {
     "slide_type": "subslide"
    }
   },
   "outputs": [
    {
     "data": {
      "image/png": "[encoded data removed]",
      "text/plain": [
       "<Figure size 1296x720 with 1 Axes>"
      ]
     },
     "metadata": {
      "needs_background": "light"
     },
     "output_type": "display_data"
    }
   ],
   "source": [
    "#It plots the log distribution of the air time\n",
    "plt.figure(figsize = [18, 10])\n",
    "bin_edges = 10 ** np.arange(1, np.log10(df_2008['AirTime'].max())+0.1, 0.1)\n",
    "plt.hist(df_2008['AirTime'], bins = bin_edges)\n",
    "plt.title('Distribution of the Air Time (log-scale)')\n",
    "plt.xscale('log')\n",
    "plt.xlabel('Minutes(log sacale) in 2008')\n",
    "tick_locs = [10, 30, 100, 300, 1000, 3000]\n",
    "plt.xticks(tick_locs, tick_locs);\n",
    "\n"
   ]
  },
  {
   "cell_type": "markdown",
   "metadata": {
    "collapsed": true,
    "slideshow": {
     "slide_type": "slide"
    }
   },
   "source": [
    "## Distribution of NAS and Late Aircrafts Delays\n",
    "\n",
    "As it occurs with the airtime the delays usually are long tailed right skewed. In some cases there are a tendency to update them in fixed periods as 5 or 15 minutes. I show two examples in this slide in which 15 minutes seems to be a time frequently used."
   ]
  },
  {
   "cell_type": "code",
   "execution_count": 97,
   "metadata": {
    "scrolled": false,
    "slideshow": {
     "slide_type": "subslide"
    }
   },
   "outputs": [
    {
     "data": {
      "image/png": "[encoded data removed]",
      "text/plain": [
       "<Figure size 1296x720 with 2 Axes>"
      ]
     },
     "metadata": {
      "needs_background": "light"
     },
     "output_type": "display_data"
    }
   ],
   "source": [
    "plt.figure(figsize = [18, 10])\n",
    "\n",
    "#Distribution of the NAS Delay\n",
    "plt.subplot(1, 2, 1)\n",
    "bin_edges = np.arange(1, df_2008['NASDelay'].max()+2, 2)\n",
    "sns.distplot(df_2008['NASDelay'], bins = bin_edges, kde = False,\n",
    "            hist_kws = {'alpha' : 1});\n",
    "#red line in 15 minutes\n",
    "plt.xlabel('Minutes')\n",
    "plt.title('Distribution of NAS Delay in 2008')\n",
    "plt.axvline(x= 15, color='r');\n",
    "plt.xlim(0, 100)\n",
    "\n",
    "\n",
    "#Distribution of the Late Aircraft Delay\n",
    "plt.subplot(1, 2, 2)\n",
    "bin_edges = np.arange(1, df_2008['LateAircraftDelay'].max()+2, 2)\n",
    "sns.distplot(df_2008['LateAircraftDelay'], bins = bin_edges, kde = False,\n",
    "            hist_kws = {'alpha' : 1});\n",
    "plt.xlabel('Minutes')\n",
    "plt.title('Distribution of Late Aircraft Delay in 2008')\n",
    "#red line in 15 minutes\n",
    "plt.axvline(x= 15, color='r');\n",
    "plt.xlim(0, 100);"
   ]
  },
  {
   "cell_type": "markdown",
   "metadata": {
    "slideshow": {
     "slide_type": "slide"
    }
   },
   "source": [
    "## Linear Relationship Between Time Variables\n",
    "\n",
    "We can find several linear relationships between the time variables. I show here two of them. \n",
    "\n",
    "* In the first case we can se the relationship between the Actual Elapsed Time and the Scheduled Time. They follow a linear relationship one to one, but we can see that the spread is clearly bigger in those flights under 400 minutes of duration. The vertical lines in the left side are those flights that has not took off.\n",
    "\n",
    "* In the second case we can observe also the linear relationship between the arrival and departure delays for those with values under 500 minutes. The linearity is clear, especially for big values. In small or normal values we observe that many other causes influence in the arrival delay and tend to have greater values than the departure delay. But we also observe that in many cases both of them can be negative, but we this can be normal because a flight can departure or arrive before the time schedulled.\n",
    "\n",
    "\n"
   ]
  },
  {
   "cell_type": "code",
   "execution_count": null,
   "metadata": {
    "slideshow": {
     "slide_type": "subslide"
    }
   },
   "outputs": [],
   "source": [
    "plt.figure(figsize = [18, 5])\n",
    "\n",
    "#scatter plot between 'ActualElapsedTime' and 'CRSElapsedTime'.\n",
    "plt.subplot(1, 2, 1)\n",
    "plt.scatter(data = df_2008, x = 'ActualElapsedTime', y = 'CRSElapsedTime', alpha=0.2)\n",
    "plt.ylim(-20, 800)\n",
    "plt.xlabel('Actual Elapsed Time (min)')\n",
    "plt.ylabel('CRS Elapsed Time (min)')\n",
    "plt.title('Actual Elapsed Time vs CRS Elapsed Time 2008')\n",
    "\n",
    "#enlargment of the relationship between ArrDelay and DepDelay around 0.\n",
    "plt.subplot(1, 2, 2)\n",
    "plt.scatter(data = df_2008, x = 'ArrDelay', y = 'DepDelay', alpha=0.2);\n",
    "plt.xlabel('Arrival Delay (min)')\n",
    "plt.ylabel('Departure Delay (min)')\n",
    "plt.title('Arrival Delay vs Departure Delay 2008')\n",
    "plt.xlim(-100, 500)\n",
    "plt.ylim(-100, 500);"
   ]
  },
  {
   "cell_type": "markdown",
   "metadata": {
    "slideshow": {
     "slide_type": "slide"
    }
   },
   "source": [
    "## Division of the Country in Five Regions\n",
    "\n",
    "Before continue with the analysis we have divided the country in five geographical regions because we want to analyze the behaviour of the of the delays according the location of the airport of departure.\n",
    "\n",
    "\n",
    "* Hawaii\n",
    "\n",
    "\n",
    "* Alaska\n",
    "\n",
    "\n",
    "* Continent West\n",
    "\n",
    "\n",
    "* Continent Center\n",
    "\n",
    "\n",
    "* Continen East\n",
    "\n",
    "The result is showed in the picture below."
   ]
  },
  {
   "cell_type": "markdown",
   "metadata": {
    "slideshow": {
     "slide_type": "subslide"
    }
   },
   "source": [
    "![Airports by Region](pictures/Regions.jpg)"
   ]
  },
  {
   "cell_type": "code",
   "execution_count": null,
   "metadata": {
    "slideshow": {
     "slide_type": "fragment"
    }
   },
   "outputs": [],
   "source": [
    "#add a new colum with the sum of all the main delays.\n",
    "df_2008['TotalDelay'] = df_2008['CarrierDelay'] +\\\n",
    "                        df_2008['WeatherDelay'] +\\\n",
    "                        df_2008['NASDelay'] +\\\n",
    "                        df_2008['SecurityDelay'] +\\\n",
    "                        df_2008['LateAircraftDelay']\n",
    "#It defines four list with the numeric variables\n",
    "numeric_vars_duration = ['ActualElapsedTime', 'CRSElapsedTime', 'AirTime' ,'Distance']\n",
    "numeric_vars_delay = ['TotalDelay', 'ArrDelay', 'DepDelay', \n",
    "                      'LateAircraftDelay' ,'CarrierDelay', 'NASDelay', 'WeatherDelay', 'SecurityDelay', \n",
    "                      'TaxiOut', 'TaxiIn']\n",
    "numeric_log_vars_duration = ['Log_ActualElapsedTime', 'Log_CRSElapsedTime', 'Log_AirTime' ,'Log_Distance']\n",
    "numeric_log_vars_delay = ['Log_TotalDelay', 'Log_ArrDelay', 'Log_DepDelay', \n",
    "                          'Log_LateAircraftDelay' ,'Log_CarrierDelay', 'Log_NASDelay', 'Log_WeatherDelay', 'Log_SecurityDelay', \n",
    "                          'Log_TaxiOut', 'Log_TaxiIn']\n",
    "\n",
    "#Makes a copy of df_2008 and filter by not cancelled flights\n",
    "df_2008_copy = df_2008.query('Cancelled == 0')\n",
    "#Change the cero value in all the numerci columns\n",
    "num = df_2008_copy._get_numeric_data()\n",
    "num[num == 0] = 1\n",
    "# compute the logarithm of delays\n",
    "def log_trans(x, inverse = False):\n",
    "    \"\"\" quick function for computing log and power operations \"\"\"\n",
    "    if not inverse:\n",
    "        return np.log10(x)\n",
    "    else:\n",
    "        return np.power(10, x)\n",
    "    \n",
    "#add new columns with the logarithm of the variables of delays\n",
    "df_2008_copy['Log_Distance'] = df_2008_copy['Distance'].apply(log_trans)\n",
    "\n",
    "\n",
    "#I add the colum region to the dataframe with the information in df_airports_inf\n",
    "df_2008_copy['Region'] = df_2008_copy.Origin.map(df_airports_inf.set_index('iata')['region'].to_dict())\n",
    "\n",
    "#convert region into a categorical ordinal variable.\n",
    "ordered_region = pd.api.types.CategoricalDtype(ordered = True, categories = ['Alaska', 'Hawaii', 'West', 'Center', 'East'])\n",
    "df_2008_copy['Region'] = df_2008_copy['Region'].astype(ordered_region)\n",
    "\n"
   ]
  },
  {
   "cell_type": "markdown",
   "metadata": {
    "slideshow": {
     "slide_type": "slide"
    }
   },
   "source": [
    "## Distribution of the Distance by Region\n",
    "\n",
    "The distribution of the distance of the flights is very different from one regions to others.\n",
    "\n",
    " * For example, Hawaii has two main different nodules, one for the inner traffic between the islands and other for the flights to the continent. \n",
    " \n",
    " * Alaska has a shape elonged and quite uniform. It not exist a clear preference between short and long flights over 200 miles.\n",
    "    \n",
    " * Between the three areas in the continent there are also some differences. The west region has the greater proportion of long flights, maybe influenced by the flights to Hawaii, but it has a clear increment in the first quartile around 300 miles.\n",
    "  \n",
    " * The center and east regions are very simiral, but the East Region has small apendix in the upper side. The proportion of the longest flights it is not so iportant as in the West Coast.\n",
    "    \n",
    " * The Center Region has its biggest proportion of flights in the third quartile, while the East Coast has the maximum proportion around the first quartile.\n",
    "    "
   ]
  },
  {
   "cell_type": "code",
   "execution_count": null,
   "metadata": {
    "scrolled": false,
    "slideshow": {
     "slide_type": "subslide"
    }
   },
   "outputs": [],
   "source": [
    "#violin plots of 'Log_Distance' by 'region'\n",
    "\n",
    "default_color = sns.color_palette()[0]\n",
    "fig, ax = plt.subplots(ncols = 1, nrows = 1 , figsize = [18,10])\n",
    "sns.violinplot(data = df_2008_copy, x = 'Region', y = 'Log_Distance',\n",
    "               color = default_color, inner = 'quartile')\n",
    "tick_locs = [10, 30, 100, 300, 1000, 3000]\n",
    "ax.set_yticks(log_trans([10, 30, 100, 300, 1000, 3000]))\n",
    "ax.set_yticklabels([10, 30, 100, 300, 1000, 3000])\n",
    "plt.xlabel('Region')\n",
    "plt.ylabel('Distance (miles) - Logarithmic Scale')\n",
    "plt.title('Distribution of meDistance by Region in 2008')\n",
    "plt.show()"
   ]
  },
  {
   "cell_type": "code",
   "execution_count": null,
   "metadata": {
    "slideshow": {
     "slide_type": "skip"
    }
   },
   "outputs": [],
   "source": [
    "#we recover the original data fo df_origins, filter by year and group by Region and DayOfWeek\n",
    "df_origin_by_day = df_origins.query('Date >= \"2004-01-01\"').groupby([ 'Region', 'DayOfWeek']).agg({'Count': 'sum'})\n",
    "\n",
    "#It create a column with the percentage of flights in a day per week. For each region\n",
    "df_origin_by_day = df_origins.query('Date >= \"2004-01-01\"').groupby([ 'Region', 'DayOfWeek']).agg({'Count': 'sum'})\n",
    "df_origin_by_day_pcts = df_origin_by_day.groupby(level=0).apply(lambda x:\n",
    "                                                 100 * x / float(x.sum()))\n",
    "\n",
    "#reset the index and rename de column Count.\n",
    "df_origin_by_day_pcts = df_origin_by_day_pcts.reset_index()\n",
    "df_origin_by_day_pcts = df_origin_by_day_pcts.rename(columns = {'Count' : 'Percentage_Origin'})\n",
    "\n",
    "#Change the name of the days\n",
    "df_origin_by_day_pcts['DayOfWeek'] = df_origin_by_day_pcts['DayOfWeek'].map({1: 'Monday', \n",
    "                                                                               2: 'Tuesday',\n",
    "                                                                               3: 'Wednesday',\n",
    "                                                                               4: 'Thursday',\n",
    "                                                                               5: 'Friday',\n",
    "                                                                               6: 'Saturday',\n",
    "                                                                               7: 'Sunday'})\n",
    "#set an order to the geographical regions\n",
    "ordered_region = pd.api.types.CategoricalDtype(ordered = True, categories = ['Alaska', 'Hawaii', 'West', 'Center', 'East'])\n",
    "df_origin_by_day_pcts['Region'] = df_origin_by_day_pcts['Region'].astype(ordered_region)"
   ]
  },
  {
   "cell_type": "markdown",
   "metadata": {
    "slideshow": {
     "slide_type": "slide"
    }
   },
   "source": [
    "## Percentage of Flights by Day of Week for Each Region\n",
    "\n",
    "Regarding how the traffic is distributed in the week we can draw the next conclusions:\n",
    "\n",
    "\n",
    "* The propotion of flights along the week is almost constant in Alaska.\n",
    "\n",
    "\n",
    "* It suffers a little increment on Friday and Saturday in Hawaii.\n",
    "\n",
    "\n",
    "* It is almost constant in workdays in the continent with a big decrement on Saturdays an increment again on Sundays. "
   ]
  },
  {
   "cell_type": "code",
   "execution_count": null,
   "metadata": {
    "slideshow": {
     "slide_type": "subslide"
    }
   },
   "outputs": [],
   "source": [
    "sns.set_palette(\"Blues_d\", 7);\n",
    "\n",
    "g = sns.catplot(x='Region', y='Percentage_Origin', \n",
    "                   hue='DayOfWeek', data=df_origin_by_day_pcts, \n",
    "                   kind='bar', height=5.5, aspect=2, legend_out=True)\n",
    "plt.title('Proportion of Flights by Week Day and Region (Daily Mean from 2004 to 2008)');"
   ]
  },
  {
   "cell_type": "code",
   "execution_count": null,
   "metadata": {
    "slideshow": {
     "slide_type": "skip"
    }
   },
   "outputs": [],
   "source": [
    "#we get a new copy of tthe dataset df_origins filtered by year and grouped bu region and day of week\n",
    "df_origin_by_day = df_origins.query('Date >= \"2004-01-01\"').groupby([ 'Region', 'DayOfWeek']).mean()\n",
    "df_origin_by_day = df_origin_by_day.reset_index()\n",
    "\n",
    "#It changes the name of the days\n",
    "df_origin_by_day['DayOfWeek'] = df_origin_by_day['DayOfWeek'].map({1: 'Monday', \n",
    "                                                                   2: 'Tuesday',\n",
    "                                                                   3: 'Wednesday',\n",
    "                                                                   4: 'Thursday',\n",
    "                                                                   5: 'Friday',\n",
    "                                                                   6: 'Saturday',\n",
    "                                                                   7: 'Sunday'})\n",
    "#We add the column Total Delay\n",
    "df_origin_by_day['TotalDelay'] = df_origin_by_day['CarrierDelay'] +\\\n",
    "                                 df_origin_by_day['WeatherDelay'] +\\\n",
    "                                 df_origin_by_day['NASDelay'] +\\\n",
    "                                 df_origin_by_day['SecurityDelay'] +\\\n",
    "                                 df_origin_by_day['LateAircraftDelay']\n",
    "\n",
    "#convert region into a categorical ordinal variable.\n",
    "ordered_region = pd.api.types.CategoricalDtype(ordered = True, categories = ['Alaska', 'Hawaii', 'West', 'Center', 'East'])\n",
    "df_origin_by_day['Region'] = df_origin_by_day['Region'].astype(ordered_region)"
   ]
  },
  {
   "cell_type": "markdown",
   "metadata": {
    "slideshow": {
     "slide_type": "slide"
    }
   },
   "source": [
    "## Delays by Region and Day of Week\n",
    "\n",
    "\n",
    " * Alaska is the region with a greater delay mainly because of the Aircraft Delay. They have also a much bigger Security Delay comparatively with other regions, but this is very small and don't has a great impact in the total.\n",
    "    \n",
    " * Hawaii is the region with less delay, but if we focus in the Departure and Arrival Delays we can see a strange pattern. We have seen before that they usually have negative departures and arrival delays, but here we observe that these are more negative on mondays and then go increasing along the week to remain positive on the weekend. \n",
    " \n",
    " * The weather delay is specially important in the Center Region and in the East Coast, but it does not almost exist in Hawaii. \n",
    "    \n",
    " * In general the delays are high on Mondays, dercrease on Tuesdays and then go increasing along the week to decrease again on Saturdays and increase on Sundays.\n",
    " \n",
    " In the slides below we show some examples."
   ]
  },
  {
   "cell_type": "code",
   "execution_count": null,
   "metadata": {
    "scrolled": false,
    "slideshow": {
     "slide_type": "subslide"
    }
   },
   "outputs": [],
   "source": [
    "#I draws the factor plot with the delays of TotalDelay.\n",
    "\n",
    "sns.set_palette(\"Blues_d\", 7);\n",
    "\n",
    "sns.catplot(x='Region', y='TotalDelay', \n",
    "            hue='DayOfWeek', data=df_origin_by_day, \n",
    "            kind='bar', height=6, aspect=2, legend_out=True)\n",
    "plt.xlabel('Region')\n",
    "plt.ylabel('Total Delay (minutes)')\n",
    "plt.title('Total Delay by Week Day and Region (Daily Mean from 2004 to 2008)');\n",
    "plt.show();"
   ]
  },
  {
   "cell_type": "code",
   "execution_count": null,
   "metadata": {
    "slideshow": {
     "slide_type": "subslide"
    }
   },
   "outputs": [],
   "source": [
    "#I draws the factor plot with the Late Aircraft Delays.\n",
    "\n",
    "sns.set_palette(\"Blues_d\", 7);\n",
    "\n",
    "sns.catplot(x='Region', y='LateAircraftDelay', \n",
    "            hue='DayOfWeek', data=df_origin_by_day, \n",
    "            kind='bar', height=5.5, aspect=2, legend_out=True)\n",
    "plt.xlabel('Region')\n",
    "plt.ylabel('Late Aircraft Delay (minutes)')\n",
    "plt.title('Late Aircraft Delay by Week Day and Region (Daily Mean from 2004 to 2008)');\n",
    "plt.show();"
   ]
  },
  {
   "cell_type": "code",
   "execution_count": null,
   "metadata": {
    "scrolled": false,
    "slideshow": {
     "slide_type": "subslide"
    }
   },
   "outputs": [],
   "source": [
    "#I draws the factor plot with the Security Delay.\n",
    "\n",
    "sns.set_palette(\"Blues_d\", 7);\n",
    "\n",
    "sns.catplot(x='Region', y='SecurityDelay', \n",
    "            hue='DayOfWeek', data=df_origin_by_day, \n",
    "            kind='bar', height=5.5, aspect=2, legend_out=True)\n",
    "plt.xlabel('Region')\n",
    "plt.ylabel('Security Delay (minutes)')\n",
    "plt.title('Security Delay by Week Day and Region (Daily Mean from 2004 to 2008)');\n",
    "plt.show();"
   ]
  },
  {
   "cell_type": "code",
   "execution_count": null,
   "metadata": {
    "scrolled": false,
    "slideshow": {
     "slide_type": "subslide"
    }
   },
   "outputs": [],
   "source": [
    "#I draws the factor plot with the NAS Delay.\n",
    "\n",
    "sns.set_palette(\"Blues_d\", 7);\n",
    "\n",
    "sns.catplot(x='Region', y='NASDelay', \n",
    "            hue='DayOfWeek', data=df_origin_by_day, \n",
    "            kind='bar', height=5.5, aspect=2, legend_out=True)\n",
    "plt.xlabel('Region')\n",
    "plt.ylabel('NAS Delay (minutes)')\n",
    "plt.title('NAS Delay by Week Day and Region (Daily Mean from 2004 to 2008)');\n",
    "plt.show();"
   ]
  },
  {
   "cell_type": "code",
   "execution_count": null,
   "metadata": {
    "slideshow": {
     "slide_type": "subslide"
    }
   },
   "outputs": [],
   "source": [
    "#I draws the factor plot with the Arrival Delay.\n",
    "\n",
    "sns.set_palette(\"Blues_d\", 7);\n",
    "\n",
    "sns.catplot(x='Region', y='WeatherDelay', \n",
    "            hue='DayOfWeek', data=df_origin_by_day, \n",
    "            kind='bar', height=6, aspect=2, legend_out=True)\n",
    "plt.xlabel('Region')\n",
    "plt.ylabel('Weather Delay (minutes)')\n",
    "plt.title('Weather Delay by Week Day and Region (Daily Mean from 2004 to 2008)');\n",
    "plt.show();"
   ]
  },
  {
   "cell_type": "code",
   "execution_count": null,
   "metadata": {
    "scrolled": true,
    "slideshow": {
     "slide_type": "subslide"
    }
   },
   "outputs": [],
   "source": [
    "#I draws the factor plot with the Arrival Delay.\n",
    "\n",
    "sns.set_palette(\"Blues_d\", 7);\n",
    "\n",
    "sns.catplot(x='Region', y='ArrDelay', \n",
    "            hue='DayOfWeek', data=df_origin_by_day, \n",
    "            kind='bar', height=6, aspect=2, legend_out=True)\n",
    "plt.xlabel('Region')\n",
    "plt.ylabel('Arrival Delay (minutes)')\n",
    "plt.title('Arrival Delay by Week Day and Region (Daily Mean from 2004 to 2008)');\n",
    "plt.show();"
   ]
  },
  {
   "cell_type": "code",
   "execution_count": null,
   "metadata": {
    "slideshow": {
     "slide_type": "skip"
    }
   },
   "outputs": [],
   "source": [
    "df_origin_by_month = df_origins.query('Date >= \"2004-01-01\"').groupby([ 'Region', 'Month']).agg({'Count': 'sum'})\n",
    "df_origin_by_month_pcts = df_origin_by_month.groupby(level=0).apply(lambda x:\n",
    "                                                 100 * x / float(x.sum()))\n",
    "df_origin_by_month_pcts = df_origin_by_month_pcts.rename(columns = {'Count' : 'Percentage_Origin'})\n",
    "\n",
    "df_origin_by_month_pcts = df_origin_by_month_pcts.reset_index()\n",
    "df_origin_by_month_pcts['Month'] = df_origin_by_month_pcts['Month'].map({1: 'January', \n",
    "                                                                         2: 'February',\n",
    "                                                                         3: 'March',\n",
    "                                                                         4: 'April',\n",
    "                                                                         5: 'May',\n",
    "                                                                         6: 'June',\n",
    "                                                                         7: 'July',\n",
    "                                                                         8: 'August',\n",
    "                                                                         9: 'September',\n",
    "                                                                         10: 'October',\n",
    "                                                                         11: 'November',\n",
    "                                                                         12: 'December'})\n",
    "\n",
    "#set an order to the geographical regions\n",
    "ordered_region = pd.api.types.CategoricalDtype(ordered = True, categories = ['Alaska', 'Hawaii', 'West', 'Center', 'East'])\n",
    "df_origin_by_month_pcts['Region'] = df_origin_by_month_pcts['Region'].astype(ordered_region)"
   ]
  },
  {
   "cell_type": "markdown",
   "metadata": {
    "slideshow": {
     "slide_type": "slide"
    }
   },
   "source": [
    "## Percentage of Flights by Month for Each Region\n",
    "\n",
    "* Regarding to the month of the year we can see that the region that have the biggest variation of traffic between months is Alaska. The percentage of traffic is really gigger in the summer months. In the other regions this fifference between months is not so big, although Hawaii has also a considerably increment of traffic in July and August."
   ]
  },
  {
   "cell_type": "code",
   "execution_count": null,
   "metadata": {
    "slideshow": {
     "slide_type": "subslide"
    }
   },
   "outputs": [],
   "source": [
    "sns.set_palette(\"Blues_d\", 12);\n",
    "\n",
    "g = sns.catplot(x='Region', y='Percentage_Origin', \n",
    "                   hue='Month', data=df_origin_by_month_pcts, \n",
    "                   kind='bar', height=5.5, aspect=2, legend_out=True)\n",
    "plt.xlabel('Region')\n",
    "plt.ylabel('Proportion of flights (%)')\n",
    "plt.title('Proportion of flights by Day and Region (Daily Mean from 2004 to 2008)')\n",
    "plt.show()"
   ]
  },
  {
   "cell_type": "code",
   "execution_count": null,
   "metadata": {
    "slideshow": {
     "slide_type": "skip"
    }
   },
   "outputs": [],
   "source": [
    "#we get a new copy of tthe dataset df_origins filtered by year and grouped bu region and month\n",
    "df_origin_by_month = df_origins.query('Date >= \"2004-01-01\"').groupby([ 'Region', 'Month']).mean()\n",
    "df_origin_by_month = df_origin_by_month.reset_index()\n",
    "#It changes the name of the days\n",
    "df_origin_by_month['Month'] = df_origin_by_month['Month'].map({1: 'January', \n",
    "                                                               2: 'February',\n",
    "                                                               3: 'March',\n",
    "                                                               4: 'April',\n",
    "                                                               5: 'May',\n",
    "                                                               6: 'June',\n",
    "                                                               7: 'July',\n",
    "                                                               8: 'August',\n",
    "                                                               9: 'September',\n",
    "                                                               10: 'October',\n",
    "                                                               11: 'November',\n",
    "                                                               12: 'December'})\n",
    "#We add the column Total Delay\n",
    "df_origin_by_month['TotalDelay'] = df_origin_by_month['CarrierDelay'] +\\\n",
    "                                   df_origin_by_month['WeatherDelay'] +\\\n",
    "                                   df_origin_by_month['NASDelay'] +\\\n",
    "                                   df_origin_by_month['SecurityDelay'] +\\\n",
    "                                   df_origin_by_month['LateAircraftDelay']\n",
    "\n",
    "#set an order to the geographical regions\n",
    "ordered_region = pd.api.types.CategoricalDtype(ordered = True, categories = ['Alaska', 'Hawaii', 'West', 'Center', 'East'])\n",
    "df_origin_by_month['Region'] = df_origin_by_month['Region'].astype(ordered_region)"
   ]
  },
  {
   "cell_type": "markdown",
   "metadata": {
    "slideshow": {
     "slide_type": "slide"
    }
   },
   "source": [
    "## Delays by Region and Month\n",
    "\n",
    "\n",
    "\n",
    "* December is a bad month to travel in all the regions. Janueary, February and March are also bad except in Hawaii.\n",
    "\n",
    "\n",
    "* Finally June, July and August are also bad months, expecially in the East Coast and in Alaska. In this region must be very important that they have a great amount of traffic these months. In the case of the East Region all the causes of delay suffer an increment these months but we can remark the increment in the Wheather delays surely because of the Hurricans Season.\n"
   ]
  },
  {
   "cell_type": "code",
   "execution_count": null,
   "metadata": {
    "slideshow": {
     "slide_type": "subslide"
    }
   },
   "outputs": [],
   "source": [
    "#I draws the factor plot with the results of Total Delay.\n",
    "sns.set_palette(\"Blues_d\", 12);\n",
    "sns.catplot(x='Region', y='TotalDelay', \n",
    "            hue='Month', data=df_origin_by_month, \n",
    "            kind='bar', height=5.5, aspect=2, legend_out=True)\n",
    "plt.xlabel('Region')\n",
    "plt.ylabel('Total Delay (minutes)')\n",
    "plt.title('Total Delay by Month and Region (Daily Mean from 2004 to 2008)')\n",
    "plt.show()\n",
    "plt.show();"
   ]
  },
  {
   "cell_type": "code",
   "execution_count": null,
   "metadata": {
    "slideshow": {
     "slide_type": "subslide"
    }
   },
   "outputs": [],
   "source": [
    "#I draws the factor plot with the results of Weather Delay.\n",
    "sns.set_palette(\"Blues_d\", 12);\n",
    "sns.catplot(x='Region', y='WeatherDelay', \n",
    "            hue='Month', data=df_origin_by_month, \n",
    "            kind='bar', height=5.5, aspect=2, legend_out=True)\n",
    "plt.xlabel('Region')\n",
    "plt.ylabel('Weather Delay (minutes)')\n",
    "plt.title('Weather Delay by Month and Region (Daily Mean from 2004 to 2008)')\n",
    "plt.show();"
   ]
  },
  {
   "cell_type": "code",
   "execution_count": null,
   "metadata": {
    "slideshow": {
     "slide_type": "subslide"
    }
   },
   "outputs": [],
   "source": [
    "#I draws the factor plot with the results of Weather Delay.\n",
    "sns.set_palette(\"Blues_d\", 12);\n",
    "sns.catplot(x='Region', y='LateAircraftDelay', \n",
    "            hue='Month', data=df_origin_by_month, \n",
    "            kind='bar', height=5.5, aspect=2, legend_out=True)\n",
    "plt.xlabel('Region')\n",
    "plt.ylabel('Late Aircraft Delay (minutes)')\n",
    "plt.title('Late Aircraft Delay by Month and Region (Daily Mean from 2004 to 2008)')\n",
    "plt.show();"
   ]
  },
  {
   "cell_type": "code",
   "execution_count": null,
   "metadata": {
    "slideshow": {
     "slide_type": "subslide"
    }
   },
   "outputs": [],
   "source": [
    "#I draws the factor plot with the results of Weather Delay.\n",
    "sns.set_palette(\"Blues_d\", 12);\n",
    "sns.catplot(x='Region', y='CarrierDelay', \n",
    "            hue='Month', data=df_origin_by_month, \n",
    "            kind='bar', height=5.5, aspect=2, legend_out=True)\n",
    "plt.xlabel('Region')\n",
    "plt.ylabel('Carrier Delay (minutes)')\n",
    "plt.title('Carrier by Month and Region (Daily Mean from 2004 to 2008)')\n",
    "plt.show();"
   ]
  },
  {
   "cell_type": "code",
   "execution_count": null,
   "metadata": {
    "slideshow": {
     "slide_type": "subslide"
    }
   },
   "outputs": [],
   "source": [
    "#I draws the factor plot with the results of Weather Delay.\n",
    "sns.set_palette(\"Blues_d\", 12);\n",
    "sns.catplot(x='Region', y='NASDelay', \n",
    "            hue='Month', data=df_origin_by_month, \n",
    "            kind='bar', height=5.5, aspect=2, legend_out=True)\n",
    "plt.xlabel('Region')\n",
    "plt.ylabel('NAS Delay (minutes)')\n",
    "plt.title('NAS Delay by Month and Region (Daily Mean from 2004 to 2008)')\n",
    "plt.show();"
   ]
  },
  {
   "cell_type": "code",
   "execution_count": null,
   "metadata": {
    "scrolled": false,
    "slideshow": {
     "slide_type": "subslide"
    }
   },
   "outputs": [],
   "source": [
    "#I draws the factor plot with the results of Weather Delay.\n",
    "sns.set_palette(\"Blues_d\", 12);\n",
    "sns.catplot(x='Region', y='SecurityDelay', \n",
    "            hue='Month', data=df_origin_by_month, \n",
    "            kind='bar', height=5.5, aspect=2, legend_out=True)\n",
    "plt.xlabel('Region')\n",
    "plt.ylabel('Security Delay (minutes)')\n",
    "plt.title('Security Delay by Month and Region (Daily Means from 2004 to 2008)')\n",
    "plt.show();"
   ]
  },
  {
   "cell_type": "markdown",
   "metadata": {
    "slideshow": {
     "slide_type": "slide"
    }
   },
   "source": [
    "## Delay Depending on the Direction\n",
    "\n",
    "\n",
    "* It seems that the total delay is bigger if we travel to the West than if we travel to the East, while there is no diference in the North and South directions. We could think that the movement of rotation of the Earth has some influence on that. But if it is so, to move to the West, against the rotation of the Earth should suppose a decrement in the time to get the destiny. It could been happening that the companies take this into account and they priorize one direction over another to compensate the influence of the earth movement? It is really strange. It could be also because of simply different condition of the winds."
   ]
  },
  {
   "cell_type": "code",
   "execution_count": null,
   "metadata": {
    "scrolled": false,
    "slideshow": {
     "slide_type": "subslide"
    }
   },
   "outputs": [],
   "source": [
    "#It draws a regplot with the difference in long in the x-axis and the total delay in the y-axis \n",
    "plt.figure(figsize=(15,7))\n",
    "sns.regplot(x=\"Difference_Long\", y=\"TotalDelay\", data=df_routes_long, color=\"royalblue\");\n",
    "plt.xlabel('<----West-----(Degrees of Longitude)-----East---->')\n",
    "plt.ylabel('Total Delay (minutes)')\n",
    "plt.title('Total Delay by Degrees of Longitude (Daily Means in 2008)')\n",
    "plt.show();"
   ]
  },
  {
   "cell_type": "code",
   "execution_count": null,
   "metadata": {
    "slideshow": {
     "slide_type": "subslide"
    }
   },
   "outputs": [],
   "source": [
    "#It draws a regplot with the difference in latitude in the x-axis and the total delay in the y-axis \n",
    "plt.figure(figsize=(15,7))\n",
    "sns.regplot(x=\"Difference_Lat\", y=\"TotalDelay\", data=df_routes_lat, color=\"royalblue\");\n",
    "plt.xlabel('<----South-----(Degrees of Latitude)-----North---->')\n",
    "plt.ylabel('Total Delay (minutes)')\n",
    "plt.title('Total Delay by Degrees of Latitude (Daily Mean in 2008)')\n",
    "plt.show();"
   ]
  },
  {
   "cell_type": "markdown",
   "metadata": {
    "slideshow": {
     "slide_type": "slide"
    }
   },
   "source": [
    "## Analysis of Alternatives to Air Transport\n",
    "\n",
    "Analyzing the routes with more than 15 flights per day and with a mean speed slower than 250 km/h we have found 96 routes in 2008 that can describe some possible options to develop another mean of transport more ecological like the high speed trains. We have chose these parameters trying to find busy routes and with a mean speed low enough so that it is more easy for a train to compete: \n",
    "\n",
    "* One of this options could be a line from San Francisco to Los Angeles and Phoenix.\n",
    "\n",
    "\n",
    "* Other option could be from Boston to New York, Atlanta and Miami.\n",
    "\n",
    "\n",
    "* And to link the both coast we could make a corridor beteen the New York area, Chicago, Denver and Los Angeles."
   ]
  },
  {
   "cell_type": "markdown",
   "metadata": {
    "slideshow": {
     "slide_type": "subslide"
    }
   },
   "source": [
    "![Busy Slow Rutes](pictures/Busy_Slow_Routes.jpg)"
   ]
  }
 ],
 "metadata": {
  "celltoolbar": "Slideshow",
  "kernelspec": {
   "display_name": "Python 3",
   "language": "python",
   "name": "python3"
  },
  "language_info": {
   "codemirror_mode": {
    "name": "ipython",
    "version": 3
   },
   "file_extension": ".py",
   "mimetype": "text/x-python",
   "name": "python",
   "nbconvert_exporter": "python",
   "pygments_lexer": "ipython3",
   "version": "3.7.5"
  }
 },
 "nbformat": 4,
 "nbformat_minor": 2
}
